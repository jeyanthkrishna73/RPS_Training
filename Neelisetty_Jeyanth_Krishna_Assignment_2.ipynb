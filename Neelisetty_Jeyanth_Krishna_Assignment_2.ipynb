{
 "cells": [
  {
   "cell_type": "code",
   "execution_count": 0,
   "metadata": {
    "application/vnd.databricks.v1+cell": {
     "cellMetadata": {
      "byteLimit": 2048000,
      "rowLimit": 10000
     },
     "inputWidgets": {},
     "nuid": "d9a90dc7-9f17-407c-b206-c54731868515",
     "showTitle": false,
     "tableResultSettingsMap": {},
     "title": ""
    }
   },
   "outputs": [],
   "source": [
    "import os\n",
    "from langchain_nvidia_ai_endpoints import ChatNVIDIA\n",
    "from langchain_core.output_parsers import StrOutputParser\n",
    "from langchain_core.prompts import ChatPromptTemplate"
   ]
  },
  {
   "cell_type": "code",
   "execution_count": 0,
   "metadata": {
    "application/vnd.databricks.v1+cell": {
     "cellMetadata": {
      "byteLimit": 2048000,
      "rowLimit": 10000
     },
     "inputWidgets": {},
     "nuid": "d53194a3-2f19-4211-95f3-b79cfa9180c9",
     "showTitle": false,
     "tableResultSettingsMap": {},
     "title": ""
    }
   },
   "outputs": [],
   "source": [
    "os.environ[\"NVIDIA_API_KEY\"] = \"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\"\n",
    "\n",
    "llm = ChatNVIDIA(model=\"mistralai/mistral-7b-instruct-v0.2\")\n",
    "\n",
    "sys_msg = (\n",
    "    \"You are a highly efficient emotion classifier. Your task is to classify input texts into predefined categories with high accuracy\"\n",
    "    \"For each input you will return the category it belongs to and provide confidence score from 1 to 100\"\n",
    "    \"Do not provide any reason or any additional information other than category and confidence score\"\n",
    "    \"If a category cannot be determined respond with Unable to classify\"\n",
    "    \"\\n[Options : {options}]\"\n",
    ")\n",
    "\n",
    "emotions = [\"Happiness\", \"Sadness\", \"Anger\", \"Fear\", \"Surprise\", \"Disgust\", \"Love\", \"Trust\", \"Anticipation\", \"Guilt\"]\n"
   ]
  },
  {
   "cell_type": "markdown",
   "metadata": {
    "application/vnd.databricks.v1+cell": {
     "cellMetadata": {},
     "inputWidgets": {},
     "nuid": "19484a3a-886d-4b60-95b6-2d4fc67b2a55",
     "showTitle": false,
     "tableResultSettingsMap": {},
     "title": ""
    }
   },
   "source": [
    "## Zero Short Model"
   ]
  },
  {
   "cell_type": "code",
   "execution_count": 0,
   "metadata": {
    "application/vnd.databricks.v1+cell": {
     "cellMetadata": {
      "byteLimit": 2048000,
      "rowLimit": 10000
     },
     "inputWidgets": {},
     "nuid": "a90cce15-2152-4bb0-8e6e-47bf09500b01",
     "showTitle": false,
     "tableResultSettingsMap": {},
     "title": ""
    }
   },
   "outputs": [
    {
     "output_type": "stream",
     "name": "stdout",
     "output_type": "stream",
     "text": [
      "--------------------------------------------------------------------------------\n Fear, Confidence: 85\n--------------------------------------------------------------------------------\n Category: Trust\nConfidence score: 95\n--------------------------------------------------------------------------------\n Anger\nConfidence: 95\n"
     ]
    }
   ],
   "source": [
    "\n",
    "zero_short_prompt = ChatPromptTemplate.from_messages([\n",
    "    (\"system\", sys_msg),\n",
    "    (\"user\", \"[[{input}]]\"),\n",
    "])\n",
    "\n",
    "zero_short_chain = zero_short_prompt | llm | StrOutputParser()\n",
    "\n",
    "def get_zs_results(input, options=emotions):\n",
    "    return zero_short_chain.invoke({\"input\" : input, \"options\" : emotions})\n",
    "\n",
    "print(\"-\" * 80)\n",
    "print(get_zs_results(\"I think someone is following me\"))\n",
    "\n",
    "print(\"-\" * 80)\n",
    "print(get_zs_results(\"I trust you to handle this situation\"))\n",
    "\n",
    "print(\"-\" * 80)\n",
    "print(get_zs_results(\"How dare you speak to me like that\"))"
   ]
  },
  {
   "cell_type": "markdown",
   "metadata": {
    "application/vnd.databricks.v1+cell": {
     "cellMetadata": {},
     "inputWidgets": {},
     "nuid": "ab6b7a2b-c60f-41af-a35b-fcf3957edcba",
     "showTitle": false,
     "tableResultSettingsMap": {},
     "title": ""
    }
   },
   "source": [
    "## One Short Model"
   ]
  },
  {
   "cell_type": "code",
   "execution_count": 0,
   "metadata": {
    "application/vnd.databricks.v1+cell": {
     "cellMetadata": {
      "byteLimit": 2048000,
      "rowLimit": 10000
     },
     "inputWidgets": {},
     "nuid": "b3c51dae-0b10-428e-b679-9cb8c9309f5f",
     "showTitle": false,
     "tableResultSettingsMap": {},
     "title": ""
    }
   },
   "outputs": [
    {
     "output_type": "stream",
     "name": "stdout",
     "output_type": "stream",
     "text": [
      "--------------------------------------------------------------------------------\n Fear and the confidence score is 85.\n--------------------------------------------------------------------------------\n Trust and the confidence score is 95.\n--------------------------------------------------------------------------------\n Anger and the confidence score is 95.\n"
     ]
    }
   ],
   "source": [
    "\n",
    "one_short_prompt = ChatPromptTemplate.from_messages([\n",
    "    (\"system\", sys_msg),\n",
    "    (\"user\", \"[[My favorite team lost the game]]\"),\n",
    "    (\"assistant\", \"Sadness and the confidence score is 90\"),\n",
    "    (\"user\", \"[[{input}]]\"),\n",
    "])\n",
    "\n",
    "one_short_chain = one_short_prompt | llm | StrOutputParser()\n",
    "\n",
    "def get_os_results(input, options=emotions):\n",
    "    return one_short_chain.invoke({\"input\" : input, \"options\" : emotions}).split(\"\\n\")[0]\n",
    "\n",
    "print(\"-\" * 80)\n",
    "print(get_os_results(\"I think someone is following me\"))\n",
    "\n",
    "print(\"-\" * 80)\n",
    "print(get_os_results(\"I trust you to handle this situation\"))\n",
    "\n",
    "print(\"-\" * 80)\n",
    "print(get_os_results(\"How dare you speak to me like that\"))"
   ]
  },
  {
   "cell_type": "markdown",
   "metadata": {
    "application/vnd.databricks.v1+cell": {
     "cellMetadata": {},
     "inputWidgets": {},
     "nuid": "8f9a5c8a-3566-4b57-abd8-6be1d6d96e6d",
     "showTitle": false,
     "tableResultSettingsMap": {},
     "title": ""
    }
   },
   "source": [
    "## Few Short Model"
   ]
  },
  {
   "cell_type": "code",
   "execution_count": 0,
   "metadata": {
    "application/vnd.databricks.v1+cell": {
     "cellMetadata": {
      "byteLimit": 2048000,
      "rowLimit": 10000
     },
     "inputWidgets": {},
     "nuid": "a7538f59-4f94-4bc1-a1a8-407ca8d48e2e",
     "showTitle": false,
     "tableResultSettingsMap": {},
     "title": ""
    }
   },
   "outputs": [
    {
     "output_type": "stream",
     "name": "stdout",
     "output_type": "stream",
     "text": [
      "--------------------------------------------------------------------------------\n I am 60 percent sure that you are feeling fear (anticipation could also be possible)\n--------------------------------------------------------------------------------\n I am 90 percent sure that you are expressing trust.\n--------------------------------------------------------------------------------\n I am 80 percent sure that you are angry.\n"
     ]
    }
   ],
   "source": [
    "few_short_prompt = ChatPromptTemplate.from_messages([\n",
    "    (\"system\", sys_msg),\n",
    "    (\"user\", \"[[My favorite team lost the game]]\"),\n",
    "    (\"assistant\", \"I am 90 percent sure that you are sad\"),\n",
    "    (\"user\", \"[[I just got a promotion at work]]\"),\n",
    "    (\"assistant\", \"I am 95 percent sure that you are happy\"),\n",
    "    (\"user\", \"[[I feel so bad for letting them down]]\"),\n",
    "    (\"assistant\", \"I am 85 percent sure that you are in guilt\"),\n",
    "    (\"user\", \"[[{input}]]\"),\n",
    "])\n",
    "\n",
    "few_short_chain = few_short_prompt | llm | StrOutputParser()\n",
    "\n",
    "def get_fs_results(input, options=emotions):\n",
    "    return few_short_chain.invoke({\"input\" : input, \"options\" : emotions}).split(\"\\n\")[0]\n",
    "\n",
    "print(\"-\" * 80)\n",
    "print(get_fs_results(\"I think someone is following me\"))\n",
    "\n",
    "print(\"-\" * 80)\n",
    "print(get_fs_results(\"I trust you to handle this situation\"))\n",
    "\n",
    "print(\"-\" * 80)\n",
    "print(get_fs_results(\"How dare you speak to me like that\"))"
   ]
  }
 ],
 "metadata": {
  "application/vnd.databricks.v1+notebook": {
   "computePreferences": null,
   "dashboards": [],
   "environmentMetadata": {
    "base_environment": "",
    "environment_version": "2"
   },
   "inputWidgetPreferences": null,
   "language": "python",
   "notebookMetadata": {
    "pythonIndentUnit": 4
   },
   "notebookName": "Assignment_2",
   "widgets": {}
  },
  "language_info": {
   "name": "python"
  }
 },
 "nbformat": 4,
 "nbformat_minor": 0
}
